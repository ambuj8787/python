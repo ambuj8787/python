{
 "cells": [
  {
   "cell_type": "code",
   "execution_count": 1,
   "id": "d019f17e",
   "metadata": {},
   "outputs": [
    {
     "name": "stdout",
     "output_type": "stream",
     "text": [
      "Enter a characterf\n"
     ]
    }
   ],
   "source": [
    "ch= input (\"Enter a character\")"
   ]
  },
  {
   "cell_type": "code",
   "execution_count": null,
   "id": "89c349a2",
   "metadata": {},
   "outputs": [],
   "source": []
  },
  {
   "cell_type": "code",
   "execution_count": 2,
   "id": "ea6c5e5e",
   "metadata": {},
   "outputs": [
    {
     "name": "stdout",
     "output_type": "stream",
     "text": [
      "consunant\n"
     ]
    }
   ],
   "source": [
    "if ch in \"a e i o u AEIOU\":\n",
    "   print(\"vowel\")\n",
    "else:\n",
    "     print(\"consunant\")\n",
    "        \n",
    "        "
   ]
  },
  {
   "cell_type": "code",
   "execution_count": null,
   "id": "9ea95dfc",
   "metadata": {},
   "outputs": [],
   "source": [
    "x=[10,20, 'john',10.5,True,80]\n",
    "print(x[0])\n",
    "print(x[1])\n",
    "print(x[4])\n",
    "\n",
    "    "
   ]
  },
  {
   "cell_type": "code",
   "execution_count": null,
   "id": "da32cf47",
   "metadata": {},
   "outputs": [],
   "source": [
    "print(x[1:5])\n",
    "print(20, 'john')\n",
    "print(x[0:5])"
   ]
  },
  {
   "cell_type": "code",
   "execution_count": null,
   "id": "c9f8fc76",
   "metadata": {},
   "outputs": [],
   "source": [
    "x=[10,30,90,30,]"
   ]
  },
  {
   "cell_type": "code",
   "execution_count": null,
   "id": "c84d7814",
   "metadata": {},
   "outputs": [],
   "source": [
    "print(30)"
   ]
  },
  {
   "cell_type": "code",
   "execution_count": null,
   "id": "8515fe3c",
   "metadata": {},
   "outputs": [],
   "source": [
    "x.pop(0)"
   ]
  },
  {
   "cell_type": "code",
   "execution_count": null,
   "id": "9207e36a",
   "metadata": {},
   "outputs": [],
   "source": [
    "print(x)"
   ]
  },
  {
   "cell_type": "code",
   "execution_count": null,
   "id": "4a6e75b6",
   "metadata": {},
   "outputs": [],
   "source": []
  },
  {
   "cell_type": "code",
   "execution_count": 10,
   "id": "a9dfac99",
   "metadata": {},
   "outputs": [
    {
     "name": "stdout",
     "output_type": "stream",
     "text": [
      "Anand\n",
      "Anand\n",
      "Anand\n",
      "Anand\n",
      "Anand\n",
      "Anand\n",
      "Anand\n",
      "Anand\n",
      "Anand\n",
      "Anand\n",
      "Anand\n",
      "Anand\n",
      "Anand\n",
      "Anand\n",
      "Anand\n",
      "Anand\n",
      "Anand\n",
      "Anand\n",
      "Anand\n",
      "Anand\n",
      "Anand\n",
      "Anand\n",
      "Anand\n",
      "Anand\n",
      "Anand\n",
      "Anand\n",
      "Anand\n",
      "Anand\n",
      "Anand\n",
      "Anand\n"
     ]
    }
   ],
   "source": [
    "name=\"Anand\"\n",
    "\n",
    "for i in range (30):\n",
    "    print(name)"
   ]
  },
  {
   "cell_type": "code",
   "execution_count": 9,
   "id": "3f9071e0",
   "metadata": {},
   "outputs": [
    {
     "name": "stdout",
     "output_type": "stream",
     "text": [
      "0\n",
      "1\n",
      "2\n",
      "3\n",
      "4\n",
      "5\n",
      "6\n",
      "7\n",
      "8\n",
      "9\n",
      "10\n",
      "11\n",
      "12\n",
      "13\n",
      "14\n"
     ]
    }
   ],
   "source": [
    "# for loop \n",
    "for i in range (15):\n",
    "    print(i)"
   ]
  },
  {
   "cell_type": "code",
   "execution_count": 8,
   "id": "09daa88e",
   "metadata": {},
   "outputs": [
    {
     "name": "stdout",
     "output_type": "stream",
     "text": [
      "13\n",
      "23\n",
      "33\n",
      "43\n",
      "53\n",
      "63\n",
      "73\n",
      " this is a book\n"
     ]
    }
   ],
   "source": [
    "# looping \n",
    "\n",
    "l1=[10,20,30,40,50,60,70,]\n",
    "\n",
    "for i in l1:\n",
    "    i=i+3\n",
    "    print(i)\n",
    "print(\" this is a book\")"
   ]
  },
  {
   "cell_type": "code",
   "execution_count": 7,
   "id": "7f7aa5ee",
   "metadata": {},
   "outputs": [
    {
     "name": "stdout",
     "output_type": "stream",
     "text": [
      "10\n"
     ]
    }
   ],
   "source": [
    "l1=[10,20,30,40,50,60,70]\n",
    "max_no=l1 [0]\n",
    "    \n",
    "for i in l1:\n",
    "      if 1>max_no:\n",
    "        max_no=i\n",
    "print(max_no)"
   ]
  },
  {
   "cell_type": "code",
   "execution_count": null,
   "id": "d9b30110",
   "metadata": {},
   "outputs": [],
   "source": [
    "#find the even and odd number in a list and store them in different list."
   ]
  },
  {
   "cell_type": "code",
   "execution_count": 6,
   "id": "e5223004",
   "metadata": {},
   "outputs": [
    {
     "name": "stdout",
     "output_type": "stream",
     "text": [
      "[20, 70, 60, 42, 60, 10]\n",
      "[25, 55, 5, 7]\n"
     ]
    }
   ],
   "source": [
    "list1=[20,25,70,55,60,42,5,60,7,10]\n",
    "even_no=[]\n",
    "odd_no=[]\n",
    "\n",
    "for i in list1:\n",
    "    if i%2==0:\n",
    "        even_no.append(i)\n",
    "    else:\n",
    "        odd_no.append(i)\n",
    "print(even_no)\n",
    "print(odd_no)"
   ]
  },
  {
   "cell_type": "code",
   "execution_count": null,
   "id": "cf16ca20",
   "metadata": {},
   "outputs": [],
   "source": [
    "#count how many even and no.are in this list"
   ]
  },
  {
   "cell_type": "code",
   "execution_count": 5,
   "id": "71055203",
   "metadata": {},
   "outputs": [
    {
     "name": "stdout",
     "output_type": "stream",
     "text": [
      "Even numbers in the list : 3\n",
      "odd numbers in the list : 4\n"
     ]
    }
   ],
   "source": [
    "list1 = [10,21, 4, 45,66,93,1]\n",
    "even_count =0\n",
    "odd_count=0\n",
    "for num in list1:\n",
    "    if num % 2 ==0:\n",
    "        even_count+=1\n",
    "    else:\n",
    "        odd_count+=1\n",
    "print (\"Even numbers in the list :\" , even_count)\n",
    "print(\"odd numbers in the list :\" ,odd_count)  \n",
    "    "
   ]
  },
  {
   "cell_type": "code",
   "execution_count": null,
   "id": "f5347099",
   "metadata": {},
   "outputs": [],
   "source": [
    "#create a multiplication table in python\n",
    "num=int(input(\"enter a number to print multiplication table\"))\n",
    "for i in range(1,11):\n",
    "    print(num)(\"x,\" \"=\", num*i)"
   ]
  },
  {
   "cell_type": "code",
   "execution_count": 4,
   "id": "8c218d19",
   "metadata": {},
   "outputs": [
    {
     "name": "stdout",
     "output_type": "stream",
     "text": [
      "122333444455555"
     ]
    }
   ],
   "source": [
    "rows=6\n",
    "#ifyou want user to enter a number, uncomment the below line \n",
    "# rows= int(input('Enter the number of rows'))\n",
    "# outer loop \n",
    "for i in range(rows):\n",
    "    # nested loop\n",
    "    for j in range(i):\n",
    "        #display number\n",
    "        print(i, end='')\n",
    "    \n",
    "    "
   ]
  },
  {
   "cell_type": "code",
   "execution_count": 2,
   "id": "589cabef",
   "metadata": {},
   "outputs": [
    {
     "name": "stdout",
     "output_type": "stream",
     "text": [
      "red apple\n",
      "red banana\n",
      "red cherry\n",
      "big apple\n",
      "big banana\n",
      "big cherry\n",
      "tasty apple\n",
      "tasty banana\n",
      "tasty cherry\n"
     ]
    }
   ],
   "source": [
    "L1 = [\"red\", \"big\",\"tasty\"]\n",
    "fruits = [\"apple\", \"banana\" , \"cherry\"]\n",
    "for i in L1:\n",
    "    for j in fruits:\n",
    "         print(i,j)"
   ]
  },
  {
   "cell_type": "code",
   "execution_count": 3,
   "id": "6c316cd9",
   "metadata": {},
   "outputs": [
    {
     "name": "stdout",
     "output_type": "stream",
     "text": [
      "* * * * * * * * * * * * * * * "
     ]
    }
   ],
   "source": [
    "# number of rows\n",
    "rows=5 \n",
    "for i in range(0,rows):\n",
    "    # nested loop for each column \n",
    "    for j in range(0,i + 1):\n",
    "        # print star\n",
    "        print(\"*\" , end=' ')\n",
    "    "
   ]
  },
  {
   "cell_type": "code",
   "execution_count": null,
   "id": "11525e4d",
   "metadata": {},
   "outputs": [],
   "source": []
  }
 ],
 "metadata": {
  "kernelspec": {
   "display_name": "Python 3 (ipykernel)",
   "language": "python",
   "name": "python3"
  },
  "language_info": {
   "codemirror_mode": {
    "name": "ipython",
    "version": 3
   },
   "file_extension": ".py",
   "mimetype": "text/x-python",
   "name": "python",
   "nbconvert_exporter": "python",
   "pygments_lexer": "ipython3",
   "version": "3.11.4"
  }
 },
 "nbformat": 4,
 "nbformat_minor": 5
}
