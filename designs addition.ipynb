{
 "cells": [
  {
   "cell_type": "code",
   "execution_count": 17,
   "id": "0ce6c964",
   "metadata": {},
   "outputs": [
    {
     "name": "stdout",
     "output_type": "stream",
     "text": [
      "Enter  first number100\n",
      "Enter second number200\n",
      "please select operation:+\n",
      "300\n"
     ]
    }
   ],
   "source": [
    "# write a program to design calculator in python\n",
    "\n",
    "x=int(input(\"Enter  first number\"))\n",
    "y=int(input(\"Enter second number\"))\n",
    "\n",
    "\n",
    "choice = input(\"please select operation:\")\n",
    "\n",
    "results=0\n",
    "if choice =='+':\n",
    "    results=x+y\n",
    "elif choice =='-':\n",
    "    results=x-y\n",
    "elif choice =='*':\n",
    "     result=x-y\n",
    "elif choice ==\"/\":\n",
    "      results=x/y\n",
    "elif choice ==\"**\":\n",
    "      results=x**y\n",
    "print(results)"
   ]
  },
  {
   "cell_type": "code",
   "execution_count": 3,
   "id": "0b2ed97a",
   "metadata": {},
   "outputs": [
    {
     "name": "stdout",
     "output_type": "stream",
     "text": [
      "90\n",
      "89\n",
      "90\n",
      "89\n",
      "89\n",
      "Your Grade is A2\n"
     ]
    }
   ],
   "source": [
    "markOne=int(input())\n",
    "markTwo=int(input())\n",
    "markThree=int(input())\n",
    "markFour=int(input())\n",
    "markfive=int(input())\n",
    "\n",
    "tot=markOne+markTwo+markThree+markFour+markfive \n",
    "avg=tot/5\n",
    "\n",
    "if avg>=91 and avg<=100:\n",
    "    print(\"Your Grade is A1\")\n",
    "elif avg>=81 and avg<91:\n",
    "     print(\"Your Grade is A2\")\n",
    "elif avg>=71 and avg<81:\n",
    "     print(\"Your Grade is B1\") \n",
    "elif avg>=61 and avg<71:\n",
    "     print(\"Your Grade is B2\")\n",
    "elif avg>=51 and avg<61:\n",
    "     print(\"Your Grade is C1\")\n",
    "elif avg>=41 and avg<51:\n",
    "     print(\"Your Grade is C2\")\n",
    "elif avg>=33 and avg<41:\n",
    "     print(\"Your Grade is D1\")\n",
    "elif avg>=21 and avg<33:\n",
    "     print(\"Your Grade is E1\")\n",
    "elif avg>=10 and avg<21:\n",
    "     print(\"Your Grade is E2\")\n",
    "else:\n",
    "    print(\"Invalid Input !\")\n",
    "\n",
    "        \n",
    "\n",
    "\n"
   ]
  },
  {
   "cell_type": "code",
   "execution_count": null,
   "id": "f762503f",
   "metadata": {},
   "outputs": [],
   "source": []
  },
  {
   "cell_type": "code",
   "execution_count": null,
   "id": "d9d82985",
   "metadata": {},
   "outputs": [],
   "source": []
  },
  {
   "cell_type": "code",
   "execution_count": null,
   "id": "f3b27e48",
   "metadata": {},
   "outputs": [],
   "source": []
  }
 ],
 "metadata": {
  "kernelspec": {
   "display_name": "Python 3 (ipykernel)",
   "language": "python",
   "name": "python3"
  },
  "language_info": {
   "codemirror_mode": {
    "name": "ipython",
    "version": 3
   },
   "file_extension": ".py",
   "mimetype": "text/x-python",
   "name": "python",
   "nbconvert_exporter": "python",
   "pygments_lexer": "ipython3",
   "version": "3.11.4"
  }
 },
 "nbformat": 4,
 "nbformat_minor": 5
}
