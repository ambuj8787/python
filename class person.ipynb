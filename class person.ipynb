{
 "cells": [
  {
   "cell_type": "code",
   "execution_count": 1,
   "id": "95cc5a85",
   "metadata": {},
   "outputs": [
    {
     "name": "stdout",
     "output_type": "stream",
     "text": [
      "Hello Ambuj\n",
      "Welcome to Delhi\n"
     ]
    }
   ],
   "source": [
    "class person:\n",
    "    def __init__(self,name,age,location):\n",
    "        self.name=name \n",
    "        self.age=age\n",
    "        self.location=location \n",
    "    def greeting (self):\n",
    "        print(\"Hello\",self.name)\n",
    "        print(\"Welcome to\",self.location)\n",
    "        \n",
    "p1=person(\"Ambuj\",20,\"Delhi\")\n",
    "p1.greeting()\n"
   ]
  },
  {
   "cell_type": "code",
   "execution_count": 11,
   "id": "cf59561b",
   "metadata": {},
   "outputs": [
    {
     "name": "stdout",
     "output_type": "stream",
     "text": [
      "Abhay Tiwari\n"
     ]
    }
   ],
   "source": [
    "# parents class\n",
    "\n",
    "class person:\n",
    "    def __init__ (self,fname,lname):\n",
    "        self.firstname=fname\n",
    "        self.lastname=lname\n",
    "    def printname(self):\n",
    "        print(self.firstname,self.lastname)\n",
    "        \n",
    "        \n",
    "        \n",
    "#child class \n",
    "\n",
    "\n",
    "class student (person):\n",
    "    pass\n",
    "s1=student(\"Abhay\", \"Tiwari\")\n",
    "s1.printname()"
   ]
  },
  {
   "cell_type": "code",
   "execution_count": 15,
   "id": "d58e5b1e",
   "metadata": {},
   "outputs": [
    {
     "name": "stdout",
     "output_type": "stream",
     "text": [
      "Ambuj Mishra\n"
     ]
    }
   ],
   "source": [
    "class student (person):\n",
    "    def __init__(self,fname,lname):\n",
    "        self.firstname=fname\n",
    "        self.lastname=lname\n",
    "    def printname(self):\n",
    "        print(self.firstname,self.lastname)\n",
    "        \n",
    "class student (person):\n",
    "    pass\n",
    "s1=student(\"Ambuj\",\"Mishra\")\n",
    "s1.printname()"
   ]
  },
  {
   "cell_type": "code",
   "execution_count": null,
   "id": "8ad45e6d",
   "metadata": {},
   "outputs": [],
   "source": []
  }
 ],
 "metadata": {
  "kernelspec": {
   "display_name": "Python 3 (ipykernel)",
   "language": "python",
   "name": "python3"
  },
  "language_info": {
   "codemirror_mode": {
    "name": "ipython",
    "version": 3
   },
   "file_extension": ".py",
   "mimetype": "text/x-python",
   "name": "python",
   "nbconvert_exporter": "python",
   "pygments_lexer": "ipython3",
   "version": "3.11.4"
  }
 },
 "nbformat": 4,
 "nbformat_minor": 5
}
